{
 "cells": [
  {
   "cell_type": "markdown",
   "metadata": {},
   "source": [
    "# Stock Valuation Using Fundimental and Technical Analysis"
   ]
  },
  {
   "cell_type": "code",
   "execution_count": 3,
   "metadata": {},
   "outputs": [],
   "source": [
    "import pandas as pd\n",
    "import numpy as np\n",
    "import matplotlib.pyplot as plt\n",
    "import seaborn as sns\n",
    "%matplotlib inline"
   ]
  },
  {
   "cell_type": "markdown",
   "metadata": {},
   "source": [
    "#### 1.Web Scraping "
   ]
  },
  {
   "cell_type": "code",
   "execution_count": 2,
   "metadata": {},
   "outputs": [],
   "source": [
    "from urllib.request import urlopen\n",
    "from bs4 import BeautifulSoup"
   ]
  },
  {
   "cell_type": "code",
   "execution_count": 3,
   "metadata": {},
   "outputs": [],
   "source": [
    "url = \"https://finance.yahoo.com/quote/TSE/key-statistics?p=TSE\"\n",
    "html = urlopen(url)"
   ]
  },
  {
   "cell_type": "code",
   "execution_count": 4,
   "metadata": {},
   "outputs": [
    {
     "data": {
      "text/plain": [
       "bs4.BeautifulSoup"
      ]
     },
     "execution_count": 4,
     "metadata": {},
     "output_type": "execute_result"
    }
   ],
   "source": [
    "soup = BeautifulSoup(html, 'lxml')\n",
    "type(soup)"
   ]
  },
  {
   "cell_type": "code",
   "execution_count": 5,
   "metadata": {},
   "outputs": [
    {
     "name": "stdout",
     "output_type": "stream",
     "text": [
      "<title>TSE Key Statistics | Trinseo S.A. Stock - Yahoo Finance</title>\n"
     ]
    }
   ],
   "source": [
    "title=soup.title\n",
    "print(title)"
   ]
  },
  {
   "cell_type": "code",
   "execution_count": 6,
   "metadata": {},
   "outputs": [
    {
     "name": "stdout",
     "output_type": "stream",
     "text": [
      "[<tr class=\"Bxz(bb) H(36px) BdY Bdc($seperatorColor) ks-row Bgc($extraLightBlue):h\" data-reactid=\"14\"><td class=\"Pos(st) Start(0) Bgc($lv2BgColor) ks-row:h_Bgc($extraLightBlue) Pend(10px) Miw(140px)\" data-reactid=\"15\"><span data-reactid=\"16\">Market Cap (intraday)</span><!-- react-text: 17 --> <!-- /react-text --><!-- react-text: 18 --><!-- /react-text --><sup aria-label=\"Shares outstanding is taken from the most recently filed quarterly or annual report and Market Cap is calculated using shares outstanding.\" data-reactid=\"19\">5</sup><div class=\"W(3px) Pos(a) Start(100%) T(0) H(100%) Bg($pfColumnFakeShadowGradient) Pe(n) Pend(5px)\" data-reactid=\"20\"></div></td><td class=\"Fz(s) Fw(500) Ta(end) Pstart(10px) Miw(60px)\" data-reactid=\"21\">1.58B</td></tr>, <tr class=\"Bxz(bb) H(36px) BdB Bdbc($seperatorColor) ks-row Bgc($extraLightBlue):h\" data-reactid=\"22\"><td class=\"Pos(st) Start(0) Bgc($lv2BgColor) ks-row:h_Bgc($extraLightBlue) Pend(10px)\" data-reactid=\"23\"><span data-reactid=\"24\">Enterprise Value</span><!-- react-text: 25 --> <!-- /react-text --><!-- react-text: 26 --><!-- /react-text --><sup aria-label=\"Data derived from multiple sources or calculated by Yahoo Finance.\" data-reactid=\"27\">3</sup><div class=\"W(3px) Pos(a) Start(100%) T(0) H(100%) Bg($pfColumnFakeShadowGradient) Pe(n) Pend(5px)\" data-reactid=\"28\"></div></td><td class=\"Fz(s) Fw(500) Ta(end) Pstart(10px) Miw(60px)\" data-reactid=\"29\">2.46B</td></tr>, <tr class=\"Bxz(bb) H(36px) BdB Bdbc($seperatorColor) ks-row Bgc($extraLightBlue):h\" data-reactid=\"30\"><td class=\"Pos(st) Start(0) Bgc($lv2BgColor) ks-row:h_Bgc($extraLightBlue) Pend(10px)\" data-reactid=\"31\"><span data-reactid=\"32\">Trailing P/E</span><!-- react-text: 33 --> <!-- /react-text --><!-- react-text: 34 --><!-- /react-text --><sup aria-label=\"\" data-reactid=\"35\"></sup><div class=\"W(3px) Pos(a) Start(100%) T(0) H(100%) Bg($pfColumnFakeShadowGradient) Pe(n) Pend(5px)\" data-reactid=\"36\"></div></td><td class=\"Fz(s) Fw(500) Ta(end) Pstart(10px) Miw(60px)\" data-reactid=\"37\">12.06</td></tr>, <tr class=\"Bxz(bb) H(36px) BdB Bdbc($seperatorColor) ks-row Bgc($extraLightBlue):h\" data-reactid=\"38\"><td class=\"Pos(st) Start(0) Bgc($lv2BgColor) ks-row:h_Bgc($extraLightBlue) Pend(10px)\" data-reactid=\"39\"><span data-reactid=\"40\">Forward P/E</span><!-- react-text: 41 --> <!-- /react-text --><!-- react-text: 42 --><!-- /react-text --><sup aria-label=\"Data provided by Thomson Reuters.\" data-reactid=\"43\">1</sup><div class=\"W(3px) Pos(a) Start(100%) T(0) H(100%) Bg($pfColumnFakeShadowGradient) Pe(n) Pend(5px)\" data-reactid=\"44\"></div></td><td class=\"Fz(s) Fw(500) Ta(end) Pstart(10px) Miw(60px)\" data-reactid=\"45\">7.30</td></tr>, <tr class=\"Bxz(bb) H(36px) BdB Bdbc($seperatorColor) ks-row Bgc($extraLightBlue):h\" data-reactid=\"46\"><td class=\"Pos(st) Start(0) Bgc($lv2BgColor) ks-row:h_Bgc($extraLightBlue) Pend(10px)\" data-reactid=\"47\"><span data-reactid=\"48\">PEG Ratio (5 yr expected)</span><!-- react-text: 49 --> <!-- /react-text --><!-- react-text: 50 --><!-- /react-text --><sup aria-label=\"Data provided by Thomson Reuters.\" data-reactid=\"51\">1</sup><div class=\"W(3px) Pos(a) Start(100%) T(0) H(100%) Bg($pfColumnFakeShadowGradient) Pe(n) Pend(5px)\" data-reactid=\"52\"></div></td><td class=\"Fz(s) Fw(500) Ta(end) Pstart(10px) Miw(60px)\" data-reactid=\"53\">-2.54</td></tr>, <tr class=\"Bxz(bb) H(36px) BdB Bdbc($seperatorColor) ks-row Bgc($extraLightBlue):h\" data-reactid=\"54\"><td class=\"Pos(st) Start(0) Bgc($lv2BgColor) ks-row:h_Bgc($extraLightBlue) Pend(10px)\" data-reactid=\"55\"><span data-reactid=\"56\">Price/Sales</span><!-- react-text: 57 --> <!-- /react-text --><!-- react-text: 58 -->(ttm)<!-- /react-text --><sup aria-label=\"\" data-reactid=\"59\"></sup><div class=\"W(3px) Pos(a) Start(100%) T(0) H(100%) Bg($pfColumnFakeShadowGradient) Pe(n) Pend(5px)\" data-reactid=\"60\"></div></td><td class=\"Fz(s) Fw(500) Ta(end) Pstart(10px) Miw(60px)\" data-reactid=\"61\">0.37</td></tr>, <tr class=\"Bxz(bb) H(36px) BdB Bdbc($seperatorColor) ks-row Bgc($extraLightBlue):h\" data-reactid=\"62\"><td class=\"Pos(st) Start(0) Bgc($lv2BgColor) ks-row:h_Bgc($extraLightBlue) Pend(10px)\" data-reactid=\"63\"><span data-reactid=\"64\">Price/Book</span><!-- react-text: 65 --> <!-- /react-text --><!-- react-text: 66 -->(mrq)<!-- /react-text --><sup aria-label=\"\" data-reactid=\"67\"></sup><div class=\"W(3px) Pos(a) Start(100%) T(0) H(100%) Bg($pfColumnFakeShadowGradient) Pe(n) Pend(5px)\" data-reactid=\"68\"></div></td><td class=\"Fz(s) Fw(500) Ta(end) Pstart(10px) Miw(60px)\" data-reactid=\"69\">2.14</td></tr>, <tr class=\"Bxz(bb) H(36px) BdB Bdbc($seperatorColor) ks-row Bgc($extraLightBlue):h\" data-reactid=\"70\"><td class=\"Pos(st) Start(0) Bgc($lv2BgColor) ks-row:h_Bgc($extraLightBlue) Pend(10px)\" data-reactid=\"71\"><span data-reactid=\"72\">Enterprise Value/Revenue</span><!-- react-text: 73 --> <!-- /react-text --><!-- react-text: 74 --><!-- /react-text --><sup aria-label=\"Data derived from multiple sources or calculated by Yahoo Finance.\" data-reactid=\"75\">3</sup><div class=\"W(3px) Pos(a) Start(100%) T(0) H(100%) Bg($pfColumnFakeShadowGradient) Pe(n) Pend(5px)\" data-reactid=\"76\"></div></td><td class=\"Fz(s) Fw(500) Ta(end) Pstart(10px) Miw(60px)\" data-reactid=\"77\">0.58</td></tr>, <tr class=\"Bxz(bb) H(36px) BdB Bdbc($seperatorColor) ks-row Bgc($extraLightBlue):h\" data-reactid=\"78\"><td class=\"Pos(st) Start(0) Bgc($lv2BgColor) ks-row:h_Bgc($extraLightBlue) Pend(10px)\" data-reactid=\"79\"><span data-reactid=\"80\">Enterprise Value/EBITDA</span><!-- react-text: 81 --> <!-- /react-text --><!-- react-text: 82 --><!-- /react-text --><sup aria-label=\"EBITDA is calculated by Capital IQ using methodology that may differ from that used by a company in its reporting.\" data-reactid=\"83\">6</sup><div class=\"W(3px) Pos(a) Start(100%) T(0) H(100%) Bg($pfColumnFakeShadowGradient) Pe(n) Pend(5px)\" data-reactid=\"84\"></div></td><td class=\"Fz(s) Fw(500) Ta(end) Pstart(10px) Miw(60px)\" data-reactid=\"85\">10.40</td></tr>, <tr class=\"Bxz(bb) H(36px) BdY Bdc($seperatorColor)\" data-reactid=\"101\"><td class=\"Pos(st) Start(0) Bgc($lv2BgColor) ks-row:h_Bgc($extraLightBlue) Pend(10px) Miw(140px)\" data-reactid=\"102\"><span data-reactid=\"103\">Beta (3Y Monthly)</span><!-- react-text: 104 --> <!-- /react-text --><!-- react-text: 105 --><!-- /react-text --><sup aria-label=\"\" data-reactid=\"106\"></sup></td><td class=\"Fz(s) Fw(500) Ta(end) Pstart(10px) Miw(60px)\" data-reactid=\"107\">1.99</td></tr>]\n"
     ]
    }
   ],
   "source": [
    "rows=soup.find_all('tr')\n",
    "print(rows[:10])"
   ]
  },
  {
   "cell_type": "code",
   "execution_count": 7,
   "metadata": {},
   "outputs": [
    {
     "name": "stdout",
     "output_type": "stream",
     "text": [
      "[<td class=\"Pos(st) Start(0) Bgc($lv2BgColor) ks-row:h_Bgc($extraLightBlue) Pend(10px) Miw(140px)\" data-reactid=\"15\"><span data-reactid=\"16\">Market Cap (intraday)</span><!-- react-text: 17 --> <!-- /react-text --><!-- react-text: 18 --><!-- /react-text --><sup aria-label=\"Shares outstanding is taken from the most recently filed quarterly or annual report and Market Cap is calculated using shares outstanding.\" data-reactid=\"19\">5</sup><div class=\"W(3px) Pos(a) Start(100%) T(0) H(100%) Bg($pfColumnFakeShadowGradient) Pe(n) Pend(5px)\" data-reactid=\"20\"></div></td>, <td class=\"Fz(s) Fw(500) Ta(end) Pstart(10px) Miw(60px)\" data-reactid=\"21\">1.58B</td>]\n",
      "[<td class=\"Pos(st) Start(0) Bgc($lv2BgColor) ks-row:h_Bgc($extraLightBlue) Pend(10px)\" data-reactid=\"23\"><span data-reactid=\"24\">Enterprise Value</span><!-- react-text: 25 --> <!-- /react-text --><!-- react-text: 26 --><!-- /react-text --><sup aria-label=\"Data derived from multiple sources or calculated by Yahoo Finance.\" data-reactid=\"27\">3</sup><div class=\"W(3px) Pos(a) Start(100%) T(0) H(100%) Bg($pfColumnFakeShadowGradient) Pe(n) Pend(5px)\" data-reactid=\"28\"></div></td>, <td class=\"Fz(s) Fw(500) Ta(end) Pstart(10px) Miw(60px)\" data-reactid=\"29\">2.46B</td>]\n",
      "[<td class=\"Pos(st) Start(0) Bgc($lv2BgColor) ks-row:h_Bgc($extraLightBlue) Pend(10px)\" data-reactid=\"31\"><span data-reactid=\"32\">Trailing P/E</span><!-- react-text: 33 --> <!-- /react-text --><!-- react-text: 34 --><!-- /react-text --><sup aria-label=\"\" data-reactid=\"35\"></sup><div class=\"W(3px) Pos(a) Start(100%) T(0) H(100%) Bg($pfColumnFakeShadowGradient) Pe(n) Pend(5px)\" data-reactid=\"36\"></div></td>, <td class=\"Fz(s) Fw(500) Ta(end) Pstart(10px) Miw(60px)\" data-reactid=\"37\">12.06</td>]\n",
      "[<td class=\"Pos(st) Start(0) Bgc($lv2BgColor) ks-row:h_Bgc($extraLightBlue) Pend(10px)\" data-reactid=\"39\"><span data-reactid=\"40\">Forward P/E</span><!-- react-text: 41 --> <!-- /react-text --><!-- react-text: 42 --><!-- /react-text --><sup aria-label=\"Data provided by Thomson Reuters.\" data-reactid=\"43\">1</sup><div class=\"W(3px) Pos(a) Start(100%) T(0) H(100%) Bg($pfColumnFakeShadowGradient) Pe(n) Pend(5px)\" data-reactid=\"44\"></div></td>, <td class=\"Fz(s) Fw(500) Ta(end) Pstart(10px) Miw(60px)\" data-reactid=\"45\">7.30</td>]\n",
      "[<td class=\"Pos(st) Start(0) Bgc($lv2BgColor) ks-row:h_Bgc($extraLightBlue) Pend(10px)\" data-reactid=\"47\"><span data-reactid=\"48\">PEG Ratio (5 yr expected)</span><!-- react-text: 49 --> <!-- /react-text --><!-- react-text: 50 --><!-- /react-text --><sup aria-label=\"Data provided by Thomson Reuters.\" data-reactid=\"51\">1</sup><div class=\"W(3px) Pos(a) Start(100%) T(0) H(100%) Bg($pfColumnFakeShadowGradient) Pe(n) Pend(5px)\" data-reactid=\"52\"></div></td>, <td class=\"Fz(s) Fw(500) Ta(end) Pstart(10px) Miw(60px)\" data-reactid=\"53\">-2.54</td>]\n",
      "[<td class=\"Pos(st) Start(0) Bgc($lv2BgColor) ks-row:h_Bgc($extraLightBlue) Pend(10px)\" data-reactid=\"55\"><span data-reactid=\"56\">Price/Sales</span><!-- react-text: 57 --> <!-- /react-text --><!-- react-text: 58 -->(ttm)<!-- /react-text --><sup aria-label=\"\" data-reactid=\"59\"></sup><div class=\"W(3px) Pos(a) Start(100%) T(0) H(100%) Bg($pfColumnFakeShadowGradient) Pe(n) Pend(5px)\" data-reactid=\"60\"></div></td>, <td class=\"Fz(s) Fw(500) Ta(end) Pstart(10px) Miw(60px)\" data-reactid=\"61\">0.37</td>]\n",
      "[<td class=\"Pos(st) Start(0) Bgc($lv2BgColor) ks-row:h_Bgc($extraLightBlue) Pend(10px)\" data-reactid=\"63\"><span data-reactid=\"64\">Price/Book</span><!-- react-text: 65 --> <!-- /react-text --><!-- react-text: 66 -->(mrq)<!-- /react-text --><sup aria-label=\"\" data-reactid=\"67\"></sup><div class=\"W(3px) Pos(a) Start(100%) T(0) H(100%) Bg($pfColumnFakeShadowGradient) Pe(n) Pend(5px)\" data-reactid=\"68\"></div></td>, <td class=\"Fz(s) Fw(500) Ta(end) Pstart(10px) Miw(60px)\" data-reactid=\"69\">2.14</td>]\n",
      "[<td class=\"Pos(st) Start(0) Bgc($lv2BgColor) ks-row:h_Bgc($extraLightBlue) Pend(10px)\" data-reactid=\"71\"><span data-reactid=\"72\">Enterprise Value/Revenue</span><!-- react-text: 73 --> <!-- /react-text --><!-- react-text: 74 --><!-- /react-text --><sup aria-label=\"Data derived from multiple sources or calculated by Yahoo Finance.\" data-reactid=\"75\">3</sup><div class=\"W(3px) Pos(a) Start(100%) T(0) H(100%) Bg($pfColumnFakeShadowGradient) Pe(n) Pend(5px)\" data-reactid=\"76\"></div></td>, <td class=\"Fz(s) Fw(500) Ta(end) Pstart(10px) Miw(60px)\" data-reactid=\"77\">0.58</td>]\n",
      "[<td class=\"Pos(st) Start(0) Bgc($lv2BgColor) ks-row:h_Bgc($extraLightBlue) Pend(10px)\" data-reactid=\"79\"><span data-reactid=\"80\">Enterprise Value/EBITDA</span><!-- react-text: 81 --> <!-- /react-text --><!-- react-text: 82 --><!-- /react-text --><sup aria-label=\"EBITDA is calculated by Capital IQ using methodology that may differ from that used by a company in its reporting.\" data-reactid=\"83\">6</sup><div class=\"W(3px) Pos(a) Start(100%) T(0) H(100%) Bg($pfColumnFakeShadowGradient) Pe(n) Pend(5px)\" data-reactid=\"84\"></div></td>, <td class=\"Fz(s) Fw(500) Ta(end) Pstart(10px) Miw(60px)\" data-reactid=\"85\">10.40</td>]\n",
      "[<td class=\"Pos(st) Start(0) Bgc($lv2BgColor) ks-row:h_Bgc($extraLightBlue) Pend(10px) Miw(140px)\" data-reactid=\"102\"><span data-reactid=\"103\">Beta (3Y Monthly)</span><!-- react-text: 104 --> <!-- /react-text --><!-- react-text: 105 --><!-- /react-text --><sup aria-label=\"\" data-reactid=\"106\"></sup></td>, <td class=\"Fz(s) Fw(500) Ta(end) Pstart(10px) Miw(60px)\" data-reactid=\"107\">1.99</td>]\n",
      "[<td class=\"Pos(st) Start(0) Bgc($lv2BgColor) ks-row:h_Bgc($extraLightBlue) Pend(10px)\" data-reactid=\"109\"><span data-reactid=\"110\">52-Week Change</span><!-- react-text: 111 --> <!-- /react-text --><!-- react-text: 112 --><!-- /react-text --><sup aria-label=\"Data derived from multiple sources or calculated by Yahoo Finance.\" data-reactid=\"113\">3</sup></td>, <td class=\"Fz(s) Fw(500) Ta(end) Pstart(10px) Miw(60px)\" data-reactid=\"114\">-47.63%</td>]\n",
      "[<td class=\"Pos(st) Start(0) Bgc($lv2BgColor) ks-row:h_Bgc($extraLightBlue) Pend(10px)\" data-reactid=\"116\"><span data-reactid=\"117\">S&amp;P500 52-Week Change</span><!-- react-text: 118 --> <!-- /react-text --><!-- react-text: 119 --><!-- /react-text --><sup aria-label=\"Data derived from multiple sources or calculated by Yahoo Finance.\" data-reactid=\"120\">3</sup></td>, <td class=\"Fz(s) Fw(500) Ta(end) Pstart(10px) Miw(60px)\" data-reactid=\"121\">2.03%</td>]\n",
      "[<td class=\"Pos(st) Start(0) Bgc($lv2BgColor) ks-row:h_Bgc($extraLightBlue) Pend(10px)\" data-reactid=\"123\"><span data-reactid=\"124\">52 Week High</span><!-- react-text: 125 --> <!-- /react-text --><!-- react-text: 126 --><!-- /react-text --><sup aria-label=\"Data derived from multiple sources or calculated by Yahoo Finance.\" data-reactid=\"127\">3</sup></td>, <td class=\"Fz(s) Fw(500) Ta(end) Pstart(10px) Miw(60px)\" data-reactid=\"128\">80.72</td>]\n",
      "[<td class=\"Pos(st) Start(0) Bgc($lv2BgColor) ks-row:h_Bgc($extraLightBlue) Pend(10px)\" data-reactid=\"130\"><span data-reactid=\"131\">52 Week Low</span><!-- react-text: 132 --> <!-- /react-text --><!-- react-text: 133 --><!-- /react-text --><sup aria-label=\"Data derived from multiple sources or calculated by Yahoo Finance.\" data-reactid=\"134\">3</sup></td>, <td class=\"Fz(s) Fw(500) Ta(end) Pstart(10px) Miw(60px)\" data-reactid=\"135\">27.36</td>]\n",
      "[<td class=\"Pos(st) Start(0) Bgc($lv2BgColor) ks-row:h_Bgc($extraLightBlue) Pend(10px)\" data-reactid=\"137\"><span data-reactid=\"138\">50-Day Moving Average</span><!-- react-text: 139 --> <!-- /react-text --><!-- react-text: 140 --><!-- /react-text --><sup aria-label=\"Data derived from multiple sources or calculated by Yahoo Finance.\" data-reactid=\"141\">3</sup></td>, <td class=\"Fz(s) Fw(500) Ta(end) Pstart(10px) Miw(60px)\" data-reactid=\"142\">38.35</td>]\n",
      "[<td class=\"Pos(st) Start(0) Bgc($lv2BgColor) ks-row:h_Bgc($extraLightBlue) Pend(10px)\" data-reactid=\"144\"><span data-reactid=\"145\">200-Day Moving Average</span><!-- react-text: 146 --> <!-- /react-text --><!-- react-text: 147 --><!-- /react-text --><sup aria-label=\"Data derived from multiple sources or calculated by Yahoo Finance.\" data-reactid=\"148\">3</sup></td>, <td class=\"Fz(s) Fw(500) Ta(end) Pstart(10px) Miw(60px)\" data-reactid=\"149\">40.28</td>]\n",
      "[<td class=\"Pos(st) Start(0) Bgc($lv2BgColor) ks-row:h_Bgc($extraLightBlue) Pend(10px) Miw(140px)\" data-reactid=\"157\"><span data-reactid=\"158\">Avg Vol (3 month)</span><!-- react-text: 159 --> <!-- /react-text --><!-- react-text: 160 --><!-- /react-text --><sup aria-label=\"Data derived from multiple sources or calculated by Yahoo Finance.\" data-reactid=\"161\">3</sup></td>, <td class=\"Fz(s) Fw(500) Ta(end) Pstart(10px) Miw(60px)\" data-reactid=\"162\">670.87k</td>]\n",
      "[<td class=\"Pos(st) Start(0) Bgc($lv2BgColor) ks-row:h_Bgc($extraLightBlue) Pend(10px)\" data-reactid=\"164\"><span data-reactid=\"165\">Avg Vol (10 day)</span><!-- react-text: 166 --> <!-- /react-text --><!-- react-text: 167 --><!-- /react-text --><sup aria-label=\"Data derived from multiple sources or calculated by Yahoo Finance.\" data-reactid=\"168\">3</sup></td>, <td class=\"Fz(s) Fw(500) Ta(end) Pstart(10px) Miw(60px)\" data-reactid=\"169\">374.52k</td>]\n",
      "[<td class=\"Pos(st) Start(0) Bgc($lv2BgColor) ks-row:h_Bgc($extraLightBlue) Pend(10px)\" data-reactid=\"171\"><span data-reactid=\"172\">Shares Outstanding</span><!-- react-text: 173 --> <!-- /react-text --><!-- react-text: 174 --><!-- /react-text --><sup aria-label=\"Shares outstanding is taken from the most recently filed quarterly or annual report and Market Cap is calculated using shares outstanding.\" data-reactid=\"175\">5</sup></td>, <td class=\"Fz(s) Fw(500) Ta(end) Pstart(10px) Miw(60px)\" data-reactid=\"176\">40.2M</td>]\n",
      "[<td class=\"Pos(st) Start(0) Bgc($lv2BgColor) ks-row:h_Bgc($extraLightBlue) Pend(10px)\" data-reactid=\"178\"><span data-reactid=\"179\">Float</span><!-- react-text: 180 --> <!-- /react-text --><!-- react-text: 181 --><!-- /react-text --><sup aria-label=\"\" data-reactid=\"182\"></sup></td>, <td class=\"Fz(s) Fw(500) Ta(end) Pstart(10px) Miw(60px)\" data-reactid=\"183\">39.9M</td>]\n",
      "[<td class=\"Pos(st) Start(0) Bgc($lv2BgColor) ks-row:h_Bgc($extraLightBlue) Pend(10px)\" data-reactid=\"185\"><span data-reactid=\"186\">% Held by Insiders</span><!-- react-text: 187 --> <!-- /react-text --><!-- react-text: 188 --><!-- /react-text --><sup aria-label=\"Data provided by Thomson Reuters.\" data-reactid=\"189\">1</sup></td>, <td class=\"Fz(s) Fw(500) Ta(end) Pstart(10px) Miw(60px)\" data-reactid=\"190\">0.57%</td>]\n",
      "[<td class=\"Pos(st) Start(0) Bgc($lv2BgColor) ks-row:h_Bgc($extraLightBlue) Pend(10px)\" data-reactid=\"192\"><span data-reactid=\"193\">% Held by Institutions</span><!-- react-text: 194 --> <!-- /react-text --><!-- react-text: 195 --><!-- /react-text --><sup aria-label=\"Data provided by Thomson Reuters.\" data-reactid=\"196\">1</sup></td>, <td class=\"Fz(s) Fw(500) Ta(end) Pstart(10px) Miw(60px)\" data-reactid=\"197\">97.55%</td>]\n",
      "[<td class=\"Pos(st) Start(0) Bgc($lv2BgColor) ks-row:h_Bgc($extraLightBlue) Pend(10px)\" data-reactid=\"199\"><span data-reactid=\"200\">Shares Short (Aug 15, 2019)</span><!-- react-text: 201 --> <!-- /react-text --><!-- react-text: 202 --><!-- /react-text --><sup aria-label=\"Data provided by Morningstar, Inc.\" data-reactid=\"203\">4</sup></td>, <td class=\"Fz(s) Fw(500) Ta(end) Pstart(10px) Miw(60px)\" data-reactid=\"204\">815.84k</td>]\n",
      "[<td class=\"Pos(st) Start(0) Bgc($lv2BgColor) ks-row:h_Bgc($extraLightBlue) Pend(10px)\" data-reactid=\"206\"><span data-reactid=\"207\">Short Ratio (Aug 15, 2019)</span><!-- react-text: 208 --> <!-- /react-text --><!-- react-text: 209 --><!-- /react-text --><sup aria-label=\"Data provided by Morningstar, Inc.\" data-reactid=\"210\">4</sup></td>, <td class=\"Fz(s) Fw(500) Ta(end) Pstart(10px) Miw(60px)\" data-reactid=\"211\">2.01</td>]\n",
      "[<td class=\"Pos(st) Start(0) Bgc($lv2BgColor) ks-row:h_Bgc($extraLightBlue) Pend(10px)\" data-reactid=\"213\"><span data-reactid=\"214\">Short % of Float (Aug 15, 2019)</span><!-- react-text: 215 --> <!-- /react-text --><!-- react-text: 216 --><!-- /react-text --><sup aria-label=\"Data provided by Morningstar, Inc.\" data-reactid=\"217\">4</sup></td>, <td class=\"Fz(s) Fw(500) Ta(end) Pstart(10px) Miw(60px)\" data-reactid=\"218\">2.73%</td>]\n",
      "[<td class=\"Pos(st) Start(0) Bgc($lv2BgColor) ks-row:h_Bgc($extraLightBlue) Pend(10px)\" data-reactid=\"220\"><span data-reactid=\"221\">Short % of Shares Outstanding (Aug 15, 2019)</span><!-- react-text: 222 --> <!-- /react-text --><!-- react-text: 223 --><!-- /react-text --><sup aria-label=\"Data provided by Morningstar, Inc.\" data-reactid=\"224\">4</sup></td>, <td class=\"Fz(s) Fw(500) Ta(end) Pstart(10px) Miw(60px)\" data-reactid=\"225\">2.03%</td>]\n",
      "[<td class=\"Pos(st) Start(0) Bgc($lv2BgColor) ks-row:h_Bgc($extraLightBlue) Pend(10px)\" data-reactid=\"227\"><span data-reactid=\"228\">Shares Short (prior month Jul 15, 2019)</span><!-- react-text: 229 --> <!-- /react-text --><!-- react-text: 230 --><!-- /react-text --><sup aria-label=\"Data provided by Morningstar, Inc.\" data-reactid=\"231\">4</sup></td>, <td class=\"Fz(s) Fw(500) Ta(end) Pstart(10px) Miw(60px)\" data-reactid=\"232\">529.4k</td>]\n",
      "[<td class=\"Pos(st) Start(0) Bgc($lv2BgColor) ks-row:h_Bgc($extraLightBlue) Pend(10px) Miw(140px)\" data-reactid=\"240\"><span data-reactid=\"241\">Forward Annual Dividend Rate</span><!-- react-text: 242 --> <!-- /react-text --><!-- react-text: 243 --><!-- /react-text --><sup aria-label=\"Data provided by Morningstar, Inc.\" data-reactid=\"244\">4</sup></td>, <td class=\"Fz(s) Fw(500) Ta(end) Pstart(10px) Miw(60px)\" data-reactid=\"245\">1.6</td>]\n",
      "[<td class=\"Pos(st) Start(0) Bgc($lv2BgColor) ks-row:h_Bgc($extraLightBlue) Pend(10px)\" data-reactid=\"247\"><span data-reactid=\"248\">Forward Annual Dividend Yield</span><!-- react-text: 249 --> <!-- /react-text --><!-- react-text: 250 --><!-- /react-text --><sup aria-label=\"Data provided by Morningstar, Inc.\" data-reactid=\"251\">4</sup></td>, <td class=\"Fz(s) Fw(500) Ta(end) Pstart(10px) Miw(60px)\" data-reactid=\"252\">3.64%</td>]\n",
      "[<td class=\"Pos(st) Start(0) Bgc($lv2BgColor) ks-row:h_Bgc($extraLightBlue) Pend(10px)\" data-reactid=\"254\"><span data-reactid=\"255\">Trailing Annual Dividend Rate</span><!-- react-text: 256 --> <!-- /react-text --><!-- react-text: 257 --><!-- /react-text --><sup aria-label=\"Data derived from multiple sources or calculated by Yahoo Finance.\" data-reactid=\"258\">3</sup></td>, <td class=\"Fz(s) Fw(500) Ta(end) Pstart(10px) Miw(60px)\" data-reactid=\"259\">1.60</td>]\n",
      "[<td class=\"Pos(st) Start(0) Bgc($lv2BgColor) ks-row:h_Bgc($extraLightBlue) Pend(10px)\" data-reactid=\"261\"><span data-reactid=\"262\">Trailing Annual Dividend Yield</span><!-- react-text: 263 --> <!-- /react-text --><!-- react-text: 264 --><!-- /react-text --><sup aria-label=\"Data derived from multiple sources or calculated by Yahoo Finance.\" data-reactid=\"265\">3</sup></td>, <td class=\"Fz(s) Fw(500) Ta(end) Pstart(10px) Miw(60px)\" data-reactid=\"266\">4.01%</td>]\n",
      "[<td class=\"Pos(st) Start(0) Bgc($lv2BgColor) ks-row:h_Bgc($extraLightBlue) Pend(10px)\" data-reactid=\"268\"><span data-reactid=\"269\">5 Year Average Dividend Yield</span><!-- react-text: 270 --> <!-- /react-text --><!-- react-text: 271 --><!-- /react-text --><sup aria-label=\"Data provided by Morningstar, Inc.\" data-reactid=\"272\">4</sup></td>, <td class=\"Fz(s) Fw(500) Ta(end) Pstart(10px) Miw(60px)\" data-reactid=\"273\"><span data-reactid=\"274\">N/A</span></td>]\n",
      "[<td class=\"Pos(st) Start(0) Bgc($lv2BgColor) ks-row:h_Bgc($extraLightBlue) Pend(10px)\" data-reactid=\"276\"><span data-reactid=\"277\">Payout Ratio</span><!-- react-text: 278 --> <!-- /react-text --><!-- react-text: 279 --><!-- /react-text --><sup aria-label=\"Data provided by Morningstar, Inc.\" data-reactid=\"280\">4</sup></td>, <td class=\"Fz(s) Fw(500) Ta(end) Pstart(10px) Miw(60px)\" data-reactid=\"281\">48.63%</td>]\n",
      "[<td class=\"Pos(st) Start(0) Bgc($lv2BgColor) ks-row:h_Bgc($extraLightBlue) Pend(10px)\" data-reactid=\"283\"><span data-reactid=\"284\">Dividend Date</span><!-- react-text: 285 --> <!-- /react-text --><!-- react-text: 286 --><!-- /react-text --><sup aria-label=\"Data derived from multiple sources or calculated by Yahoo Finance.\" data-reactid=\"287\">3</sup></td>, <td class=\"Fz(s) Fw(500) Ta(end) Pstart(10px) Miw(60px)\" data-reactid=\"288\">Oct 24, 2019</td>]\n",
      "[<td class=\"Pos(st) Start(0) Bgc($lv2BgColor) ks-row:h_Bgc($extraLightBlue) Pend(10px)\" data-reactid=\"290\"><span data-reactid=\"291\">Ex-Dividend Date</span><!-- react-text: 292 --> <!-- /react-text --><!-- react-text: 293 --><!-- /react-text --><sup aria-label=\"Data provided by Morningstar, Inc.\" data-reactid=\"294\">4</sup></td>, <td class=\"Fz(s) Fw(500) Ta(end) Pstart(10px) Miw(60px)\" data-reactid=\"295\">Jul 10, 2019</td>]\n",
      "[<td class=\"Pos(st) Start(0) Bgc($lv2BgColor) ks-row:h_Bgc($extraLightBlue) Pend(10px)\" data-reactid=\"297\"><span data-reactid=\"298\">Last Split Factor (new per old)</span><!-- react-text: 299 --> <!-- /react-text --><!-- react-text: 300 --><!-- /react-text --><sup aria-label=\"Data provided by EDGAR Online.\" data-reactid=\"301\">2</sup></td>, <td class=\"Fz(s) Fw(500) Ta(end) Pstart(10px) Miw(60px)\" data-reactid=\"302\"><span data-reactid=\"303\">N/A</span></td>]\n",
      "[<td class=\"Pos(st) Start(0) Bgc($lv2BgColor) ks-row:h_Bgc($extraLightBlue) Pend(10px)\" data-reactid=\"305\"><span data-reactid=\"306\">Last Split Date</span><!-- react-text: 307 --> <!-- /react-text --><!-- react-text: 308 --><!-- /react-text --><sup aria-label=\"Data derived from multiple sources or calculated by Yahoo Finance.\" data-reactid=\"309\">3</sup></td>, <td class=\"Fz(s) Fw(500) Ta(end) Pstart(10px) Miw(60px)\" data-reactid=\"310\"><span data-reactid=\"311\">N/A</span></td>]\n",
      "[<td class=\"Pos(st) Start(0) Bgc($lv2BgColor) ks-row:h_Bgc($extraLightBlue) Pend(10px) Miw(140px)\" data-reactid=\"323\"><span data-reactid=\"324\">Fiscal Year Ends</span><!-- react-text: 325 --> <!-- /react-text --><!-- react-text: 326 --><!-- /react-text --><sup aria-label=\"\" data-reactid=\"327\"></sup></td>, <td class=\"Fz(s) Fw(500) Ta(end) Pstart(10px) Miw(60px)\" data-reactid=\"328\">Dec 31, 2018</td>]\n",
      "[<td class=\"Pos(st) Start(0) Bgc($lv2BgColor) ks-row:h_Bgc($extraLightBlue) Pend(10px)\" data-reactid=\"330\"><span data-reactid=\"331\">Most Recent Quarter</span><!-- react-text: 332 --> <!-- /react-text --><!-- react-text: 333 -->(mrq)<!-- /react-text --><sup aria-label=\"\" data-reactid=\"334\"></sup></td>, <td class=\"Fz(s) Fw(500) Ta(end) Pstart(10px) Miw(60px)\" data-reactid=\"335\">Jun 30, 2019</td>]\n",
      "[<td class=\"Pos(st) Start(0) Bgc($lv2BgColor) ks-row:h_Bgc($extraLightBlue) Pend(10px) Miw(140px)\" data-reactid=\"343\"><span data-reactid=\"344\">Profit Margin</span><!-- react-text: 345 --> <!-- /react-text --><!-- react-text: 346 --><!-- /react-text --><sup aria-label=\"\" data-reactid=\"347\"></sup></td>, <td class=\"Fz(s) Fw(500) Ta(end) Pstart(10px) Miw(60px)\" data-reactid=\"348\">3.26%</td>]\n",
      "[<td class=\"Pos(st) Start(0) Bgc($lv2BgColor) ks-row:h_Bgc($extraLightBlue) Pend(10px)\" data-reactid=\"350\"><span data-reactid=\"351\">Operating Margin</span><!-- react-text: 352 --> <!-- /react-text --><!-- react-text: 353 -->(ttm)<!-- /react-text --><sup aria-label=\"\" data-reactid=\"354\"></sup></td>, <td class=\"Fz(s) Fw(500) Ta(end) Pstart(10px) Miw(60px)\" data-reactid=\"355\">2.40%</td>]\n",
      "[<td class=\"Pos(st) Start(0) Bgc($lv2BgColor) ks-row:h_Bgc($extraLightBlue) Pend(10px) Miw(140px)\" data-reactid=\"363\"><span data-reactid=\"364\">Return on Assets</span><!-- react-text: 365 --> <!-- /react-text --><!-- react-text: 366 -->(ttm)<!-- /react-text --><sup aria-label=\"\" data-reactid=\"367\"></sup></td>, <td class=\"Fz(s) Fw(500) Ta(end) Pstart(10px) Miw(60px)\" data-reactid=\"368\">2.23%</td>]\n",
      "[<td class=\"Pos(st) Start(0) Bgc($lv2BgColor) ks-row:h_Bgc($extraLightBlue) Pend(10px)\" data-reactid=\"370\"><span data-reactid=\"371\">Return on Equity</span><!-- react-text: 372 --> <!-- /react-text --><!-- react-text: 373 -->(ttm)<!-- /react-text --><sup aria-label=\"\" data-reactid=\"374\"></sup></td>, <td class=\"Fz(s) Fw(500) Ta(end) Pstart(10px) Miw(60px)\" data-reactid=\"375\">17.80%</td>]\n",
      "[<td class=\"Pos(st) Start(0) Bgc($lv2BgColor) ks-row:h_Bgc($extraLightBlue) Pend(10px) Miw(140px)\" data-reactid=\"383\"><span data-reactid=\"384\">Revenue</span><!-- react-text: 385 --> <!-- /react-text --><!-- react-text: 386 -->(ttm)<!-- /react-text --><sup aria-label=\"\" data-reactid=\"387\"></sup></td>, <td class=\"Fz(s) Fw(500) Ta(end) Pstart(10px) Miw(60px)\" data-reactid=\"388\">4.23B</td>]\n",
      "[<td class=\"Pos(st) Start(0) Bgc($lv2BgColor) ks-row:h_Bgc($extraLightBlue) Pend(10px)\" data-reactid=\"390\"><span data-reactid=\"391\">Revenue Per Share</span><!-- react-text: 392 --> <!-- /react-text --><!-- react-text: 393 -->(ttm)<!-- /react-text --><sup aria-label=\"\" data-reactid=\"394\"></sup></td>, <td class=\"Fz(s) Fw(500) Ta(end) Pstart(10px) Miw(60px)\" data-reactid=\"395\">101.55</td>]\n",
      "[<td class=\"Pos(st) Start(0) Bgc($lv2BgColor) ks-row:h_Bgc($extraLightBlue) Pend(10px)\" data-reactid=\"397\"><span data-reactid=\"398\">Quarterly Revenue Growth</span><!-- react-text: 399 --> <!-- /react-text --><!-- react-text: 400 -->(yoy)<!-- /react-text --><sup aria-label=\"\" data-reactid=\"401\"></sup></td>, <td class=\"Fz(s) Fw(500) Ta(end) Pstart(10px) Miw(60px)\" data-reactid=\"402\">-23.00%</td>]\n",
      "[<td class=\"Pos(st) Start(0) Bgc($lv2BgColor) ks-row:h_Bgc($extraLightBlue) Pend(10px)\" data-reactid=\"404\"><span data-reactid=\"405\">Gross Profit</span><!-- react-text: 406 --> <!-- /react-text --><!-- react-text: 407 -->(ttm)<!-- /react-text --><sup aria-label=\"\" data-reactid=\"408\"></sup></td>, <td class=\"Fz(s) Fw(500) Ta(end) Pstart(10px) Miw(60px)\" data-reactid=\"409\">528.8M</td>]\n",
      "[<td class=\"Pos(st) Start(0) Bgc($lv2BgColor) ks-row:h_Bgc($extraLightBlue) Pend(10px)\" data-reactid=\"411\"><span data-reactid=\"412\">EBITDA</span><!-- react-text: 413 --> <!-- /react-text --><!-- react-text: 414 --><!-- /react-text --><sup aria-label=\"\" data-reactid=\"415\"></sup></td>, <td class=\"Fz(s) Fw(500) Ta(end) Pstart(10px) Miw(60px)\" data-reactid=\"416\">236.1M</td>]\n",
      "[<td class=\"Pos(st) Start(0) Bgc($lv2BgColor) ks-row:h_Bgc($extraLightBlue) Pend(10px)\" data-reactid=\"418\"><span data-reactid=\"419\">Net Income Avi to Common</span><!-- react-text: 420 --> <!-- /react-text --><!-- react-text: 421 -->(ttm)<!-- /react-text --><sup aria-label=\"\" data-reactid=\"422\"></sup></td>, <td class=\"Fz(s) Fw(500) Ta(end) Pstart(10px) Miw(60px)\" data-reactid=\"423\">137.7M</td>]\n",
      "[<td class=\"Pos(st) Start(0) Bgc($lv2BgColor) ks-row:h_Bgc($extraLightBlue) Pend(10px)\" data-reactid=\"425\"><span data-reactid=\"426\">Diluted EPS</span><!-- react-text: 427 --> <!-- /react-text --><!-- react-text: 428 -->(ttm)<!-- /react-text --><sup aria-label=\"\" data-reactid=\"429\"></sup></td>, <td class=\"Fz(s) Fw(500) Ta(end) Pstart(10px) Miw(60px)\" data-reactid=\"430\">3.26</td>]\n",
      "[<td class=\"Pos(st) Start(0) Bgc($lv2BgColor) ks-row:h_Bgc($extraLightBlue) Pend(10px)\" data-reactid=\"432\"><span data-reactid=\"433\">Quarterly Earnings Growth</span><!-- react-text: 434 --> <!-- /react-text --><!-- react-text: 435 -->(yoy)<!-- /react-text --><sup aria-label=\"\" data-reactid=\"436\"></sup></td>, <td class=\"Fz(s) Fw(500) Ta(end) Pstart(10px) Miw(60px)\" data-reactid=\"437\">-71.50%</td>]\n",
      "[<td class=\"Pos(st) Start(0) Bgc($lv2BgColor) ks-row:h_Bgc($extraLightBlue) Pend(10px) Miw(140px)\" data-reactid=\"445\"><span data-reactid=\"446\">Total Cash</span><!-- react-text: 447 --> <!-- /react-text --><!-- react-text: 448 -->(mrq)<!-- /react-text --><sup aria-label=\"\" data-reactid=\"449\"></sup></td>, <td class=\"Fz(s) Fw(500) Ta(end) Pstart(10px) Miw(60px)\" data-reactid=\"450\">535M</td>]\n",
      "[<td class=\"Pos(st) Start(0) Bgc($lv2BgColor) ks-row:h_Bgc($extraLightBlue) Pend(10px)\" data-reactid=\"452\"><span data-reactid=\"453\">Total Cash Per Share</span><!-- react-text: 454 --> <!-- /react-text --><!-- react-text: 455 -->(mrq)<!-- /react-text --><sup aria-label=\"\" data-reactid=\"456\"></sup></td>, <td class=\"Fz(s) Fw(500) Ta(end) Pstart(10px) Miw(60px)\" data-reactid=\"457\">13.31</td>]\n",
      "[<td class=\"Pos(st) Start(0) Bgc($lv2BgColor) ks-row:h_Bgc($extraLightBlue) Pend(10px)\" data-reactid=\"459\"><span data-reactid=\"460\">Total Debt</span><!-- react-text: 461 --> <!-- /react-text --><!-- react-text: 462 -->(mrq)<!-- /react-text --><sup aria-label=\"\" data-reactid=\"463\"></sup></td>, <td class=\"Fz(s) Fw(500) Ta(end) Pstart(10px) Miw(60px)\" data-reactid=\"464\">1.24B</td>]\n",
      "[<td class=\"Pos(st) Start(0) Bgc($lv2BgColor) ks-row:h_Bgc($extraLightBlue) Pend(10px)\" data-reactid=\"466\"><span data-reactid=\"467\">Total Debt/Equity</span><!-- react-text: 468 --> <!-- /react-text --><!-- react-text: 469 -->(mrq)<!-- /react-text --><sup aria-label=\"\" data-reactid=\"470\"></sup></td>, <td class=\"Fz(s) Fw(500) Ta(end) Pstart(10px) Miw(60px)\" data-reactid=\"471\">166.62</td>]\n",
      "[<td class=\"Pos(st) Start(0) Bgc($lv2BgColor) ks-row:h_Bgc($extraLightBlue) Pend(10px)\" data-reactid=\"473\"><span data-reactid=\"474\">Current Ratio</span><!-- react-text: 475 --> <!-- /react-text --><!-- react-text: 476 -->(mrq)<!-- /react-text --><sup aria-label=\"\" data-reactid=\"477\"></sup></td>, <td class=\"Fz(s) Fw(500) Ta(end) Pstart(10px) Miw(60px)\" data-reactid=\"478\">2.83</td>]\n",
      "[<td class=\"Pos(st) Start(0) Bgc($lv2BgColor) ks-row:h_Bgc($extraLightBlue) Pend(10px)\" data-reactid=\"480\"><span data-reactid=\"481\">Book Value Per Share</span><!-- react-text: 482 --> <!-- /react-text --><!-- react-text: 483 -->(mrq)<!-- /react-text --><sup aria-label=\"\" data-reactid=\"484\"></sup></td>, <td class=\"Fz(s) Fw(500) Ta(end) Pstart(10px) Miw(60px)\" data-reactid=\"485\">18.35</td>]\n",
      "[<td class=\"Pos(st) Start(0) Bgc($lv2BgColor) ks-row:h_Bgc($extraLightBlue) Pend(10px) Miw(140px)\" data-reactid=\"493\"><span data-reactid=\"494\">Operating Cash Flow</span><!-- react-text: 495 --> <!-- /react-text --><!-- react-text: 496 -->(ttm)<!-- /react-text --><sup aria-label=\"\" data-reactid=\"497\"></sup></td>, <td class=\"Fz(s) Fw(500) Ta(end) Pstart(10px) Miw(60px)\" data-reactid=\"498\">418.1M</td>]\n",
      "[<td class=\"Pos(st) Start(0) Bgc($lv2BgColor) ks-row:h_Bgc($extraLightBlue) Pend(10px)\" data-reactid=\"500\"><span data-reactid=\"501\">Levered Free Cash Flow</span><!-- react-text: 502 --> <!-- /react-text --><!-- react-text: 503 -->(ttm)<!-- /react-text --><sup aria-label=\"\" data-reactid=\"504\"></sup></td>, <td class=\"Fz(s) Fw(500) Ta(end) Pstart(10px) Miw(60px)\" data-reactid=\"505\">235.04M</td>]\n"
     ]
    }
   ],
   "source": [
    "for row in rows:\n",
    "    row_td= row.find_all('td')\n",
    "    print (row_td)"
   ]
  },
  {
   "cell_type": "code",
   "execution_count": 8,
   "metadata": {},
   "outputs": [
    {
     "data": {
      "text/plain": [
       "bs4.element.ResultSet"
      ]
     },
     "execution_count": 8,
     "metadata": {},
     "output_type": "execute_result"
    }
   ],
   "source": [
    "type(row_td)"
   ]
  },
  {
   "cell_type": "code",
   "execution_count": 9,
   "metadata": {},
   "outputs": [
    {
     "name": "stdout",
     "output_type": "stream",
     "text": [
      "[Levered Free Cash Flow (ttm), 235.04M]\n"
     ]
    }
   ],
   "source": [
    "str_cells=str(row_td)\n",
    "cleantext= BeautifulSoup(str_cells, \"lxml\").get_text()\n",
    "print(cleantext)"
   ]
  },
  {
   "cell_type": "code",
   "execution_count": 10,
   "metadata": {},
   "outputs": [
    {
     "name": "stdout",
     "output_type": "stream",
     "text": [
      "[Levered Free Cash Flow (ttm), 235.04M]\n"
     ]
    },
    {
     "data": {
      "text/plain": [
       "str"
      ]
     },
     "execution_count": 10,
     "metadata": {},
     "output_type": "execute_result"
    }
   ],
   "source": [
    "import re\n",
    "\n",
    "list_rows = []\n",
    "for row in rows:\n",
    "    cells = row.find_all('td')\n",
    "    str_cells = str(cells)\n",
    "    clean = re.compile('<.*?>')\n",
    "    clean2 = (re.sub(clean, '',str_cells))\n",
    "    list_rows.append(clean2)\n",
    "print(clean2)\n",
    "type(clean2)"
   ]
  },
  {
   "cell_type": "markdown",
   "metadata": {},
   "source": [
    "### 2.Data Cleanning"
   ]
  },
  {
   "cell_type": "code",
   "execution_count": 11,
   "metadata": {},
   "outputs": [
    {
     "data": {
      "text/html": [
       "<div>\n",
       "<style scoped>\n",
       "    .dataframe tbody tr th:only-of-type {\n",
       "        vertical-align: middle;\n",
       "    }\n",
       "\n",
       "    .dataframe tbody tr th {\n",
       "        vertical-align: top;\n",
       "    }\n",
       "\n",
       "    .dataframe thead th {\n",
       "        text-align: right;\n",
       "    }\n",
       "</style>\n",
       "<table border=\"1\" class=\"dataframe\">\n",
       "  <thead>\n",
       "    <tr style=\"text-align: right;\">\n",
       "      <th></th>\n",
       "      <th>0</th>\n",
       "    </tr>\n",
       "  </thead>\n",
       "  <tbody>\n",
       "    <tr>\n",
       "      <th>0</th>\n",
       "      <td>[Market Cap (intraday) 5, 1.58B]</td>\n",
       "    </tr>\n",
       "    <tr>\n",
       "      <th>1</th>\n",
       "      <td>[Enterprise Value 3, 2.46B]</td>\n",
       "    </tr>\n",
       "    <tr>\n",
       "      <th>2</th>\n",
       "      <td>[Trailing P/E , 12.06]</td>\n",
       "    </tr>\n",
       "    <tr>\n",
       "      <th>3</th>\n",
       "      <td>[Forward P/E 1, 7.30]</td>\n",
       "    </tr>\n",
       "    <tr>\n",
       "      <th>4</th>\n",
       "      <td>[PEG Ratio (5 yr expected) 1, -2.54]</td>\n",
       "    </tr>\n",
       "    <tr>\n",
       "      <th>5</th>\n",
       "      <td>[Price/Sales (ttm), 0.37]</td>\n",
       "    </tr>\n",
       "    <tr>\n",
       "      <th>6</th>\n",
       "      <td>[Price/Book (mrq), 2.14]</td>\n",
       "    </tr>\n",
       "    <tr>\n",
       "      <th>7</th>\n",
       "      <td>[Enterprise Value/Revenue 3, 0.58]</td>\n",
       "    </tr>\n",
       "    <tr>\n",
       "      <th>8</th>\n",
       "      <td>[Enterprise Value/EBITDA 6, 10.40]</td>\n",
       "    </tr>\n",
       "    <tr>\n",
       "      <th>9</th>\n",
       "      <td>[Beta (3Y Monthly) , 1.99]</td>\n",
       "    </tr>\n",
       "  </tbody>\n",
       "</table>\n",
       "</div>"
      ],
      "text/plain": [
       "                                      0\n",
       "0      [Market Cap (intraday) 5, 1.58B]\n",
       "1           [Enterprise Value 3, 2.46B]\n",
       "2                [Trailing P/E , 12.06]\n",
       "3                 [Forward P/E 1, 7.30]\n",
       "4  [PEG Ratio (5 yr expected) 1, -2.54]\n",
       "5             [Price/Sales (ttm), 0.37]\n",
       "6              [Price/Book (mrq), 2.14]\n",
       "7    [Enterprise Value/Revenue 3, 0.58]\n",
       "8    [Enterprise Value/EBITDA 6, 10.40]\n",
       "9            [Beta (3Y Monthly) , 1.99]"
      ]
     },
     "execution_count": 11,
     "metadata": {},
     "output_type": "execute_result"
    }
   ],
   "source": [
    "Value = pd.DataFrame(list_rows)\n",
    "Value.head(10)"
   ]
  },
  {
   "cell_type": "code",
   "execution_count": 12,
   "metadata": {},
   "outputs": [
    {
     "data": {
      "text/html": [
       "<div>\n",
       "<style scoped>\n",
       "    .dataframe tbody tr th:only-of-type {\n",
       "        vertical-align: middle;\n",
       "    }\n",
       "\n",
       "    .dataframe tbody tr th {\n",
       "        vertical-align: top;\n",
       "    }\n",
       "\n",
       "    .dataframe thead th {\n",
       "        text-align: right;\n",
       "    }\n",
       "</style>\n",
       "<table border=\"1\" class=\"dataframe\">\n",
       "  <thead>\n",
       "    <tr style=\"text-align: right;\">\n",
       "      <th></th>\n",
       "      <th>0</th>\n",
       "      <th>1</th>\n",
       "      <th>2</th>\n",
       "    </tr>\n",
       "  </thead>\n",
       "  <tbody>\n",
       "    <tr>\n",
       "      <th>0</th>\n",
       "      <td>[Market Cap (intraday) 5</td>\n",
       "      <td>1.58B]</td>\n",
       "      <td>None</td>\n",
       "    </tr>\n",
       "    <tr>\n",
       "      <th>1</th>\n",
       "      <td>[Enterprise Value 3</td>\n",
       "      <td>2.46B]</td>\n",
       "      <td>None</td>\n",
       "    </tr>\n",
       "    <tr>\n",
       "      <th>2</th>\n",
       "      <td>[Trailing P/E</td>\n",
       "      <td>12.06]</td>\n",
       "      <td>None</td>\n",
       "    </tr>\n",
       "    <tr>\n",
       "      <th>3</th>\n",
       "      <td>[Forward P/E 1</td>\n",
       "      <td>7.30]</td>\n",
       "      <td>None</td>\n",
       "    </tr>\n",
       "    <tr>\n",
       "      <th>4</th>\n",
       "      <td>[PEG Ratio (5 yr expected) 1</td>\n",
       "      <td>-2.54]</td>\n",
       "      <td>None</td>\n",
       "    </tr>\n",
       "    <tr>\n",
       "      <th>5</th>\n",
       "      <td>[Price/Sales (ttm)</td>\n",
       "      <td>0.37]</td>\n",
       "      <td>None</td>\n",
       "    </tr>\n",
       "    <tr>\n",
       "      <th>6</th>\n",
       "      <td>[Price/Book (mrq)</td>\n",
       "      <td>2.14]</td>\n",
       "      <td>None</td>\n",
       "    </tr>\n",
       "    <tr>\n",
       "      <th>7</th>\n",
       "      <td>[Enterprise Value/Revenue 3</td>\n",
       "      <td>0.58]</td>\n",
       "      <td>None</td>\n",
       "    </tr>\n",
       "    <tr>\n",
       "      <th>8</th>\n",
       "      <td>[Enterprise Value/EBITDA 6</td>\n",
       "      <td>10.40]</td>\n",
       "      <td>None</td>\n",
       "    </tr>\n",
       "    <tr>\n",
       "      <th>9</th>\n",
       "      <td>[Beta (3Y Monthly)</td>\n",
       "      <td>1.99]</td>\n",
       "      <td>None</td>\n",
       "    </tr>\n",
       "  </tbody>\n",
       "</table>\n",
       "</div>"
      ],
      "text/plain": [
       "                              0        1     2\n",
       "0      [Market Cap (intraday) 5   1.58B]  None\n",
       "1           [Enterprise Value 3   2.46B]  None\n",
       "2                [Trailing P/E    12.06]  None\n",
       "3                [Forward P/E 1    7.30]  None\n",
       "4  [PEG Ratio (5 yr expected) 1   -2.54]  None\n",
       "5            [Price/Sales (ttm)    0.37]  None\n",
       "6             [Price/Book (mrq)    2.14]  None\n",
       "7   [Enterprise Value/Revenue 3    0.58]  None\n",
       "8    [Enterprise Value/EBITDA 6   10.40]  None\n",
       "9           [Beta (3Y Monthly)     1.99]  None"
      ]
     },
     "execution_count": 12,
     "metadata": {},
     "output_type": "execute_result"
    }
   ],
   "source": [
    "Value = Value[0].str.split(',', expand=True)\n",
    "Value.head(10)"
   ]
  },
  {
   "cell_type": "code",
   "execution_count": 13,
   "metadata": {},
   "outputs": [
    {
     "data": {
      "text/html": [
       "<div>\n",
       "<style scoped>\n",
       "    .dataframe tbody tr th:only-of-type {\n",
       "        vertical-align: middle;\n",
       "    }\n",
       "\n",
       "    .dataframe tbody tr th {\n",
       "        vertical-align: top;\n",
       "    }\n",
       "\n",
       "    .dataframe thead th {\n",
       "        text-align: right;\n",
       "    }\n",
       "</style>\n",
       "<table border=\"1\" class=\"dataframe\">\n",
       "  <thead>\n",
       "    <tr style=\"text-align: right;\">\n",
       "      <th></th>\n",
       "      <th>0</th>\n",
       "      <th>1</th>\n",
       "      <th>2</th>\n",
       "    </tr>\n",
       "  </thead>\n",
       "  <tbody>\n",
       "    <tr>\n",
       "      <th>0</th>\n",
       "      <td>Market Cap (intraday) 5</td>\n",
       "      <td>1.58B</td>\n",
       "      <td>None</td>\n",
       "    </tr>\n",
       "    <tr>\n",
       "      <th>1</th>\n",
       "      <td>Enterprise Value 3</td>\n",
       "      <td>2.46B</td>\n",
       "      <td>None</td>\n",
       "    </tr>\n",
       "    <tr>\n",
       "      <th>2</th>\n",
       "      <td>Trailing P/E</td>\n",
       "      <td>12.06</td>\n",
       "      <td>None</td>\n",
       "    </tr>\n",
       "    <tr>\n",
       "      <th>3</th>\n",
       "      <td>Forward P/E 1</td>\n",
       "      <td>7.30</td>\n",
       "      <td>None</td>\n",
       "    </tr>\n",
       "    <tr>\n",
       "      <th>4</th>\n",
       "      <td>PEG Ratio (5 yr expected) 1</td>\n",
       "      <td>-2.54</td>\n",
       "      <td>None</td>\n",
       "    </tr>\n",
       "    <tr>\n",
       "      <th>5</th>\n",
       "      <td>Price/Sales (ttm)</td>\n",
       "      <td>0.37</td>\n",
       "      <td>None</td>\n",
       "    </tr>\n",
       "    <tr>\n",
       "      <th>6</th>\n",
       "      <td>Price/Book (mrq)</td>\n",
       "      <td>2.14</td>\n",
       "      <td>None</td>\n",
       "    </tr>\n",
       "    <tr>\n",
       "      <th>7</th>\n",
       "      <td>Enterprise Value/Revenue 3</td>\n",
       "      <td>0.58</td>\n",
       "      <td>None</td>\n",
       "    </tr>\n",
       "    <tr>\n",
       "      <th>8</th>\n",
       "      <td>Enterprise Value/EBITDA 6</td>\n",
       "      <td>10.40</td>\n",
       "      <td>None</td>\n",
       "    </tr>\n",
       "    <tr>\n",
       "      <th>9</th>\n",
       "      <td>Beta (3Y Monthly)</td>\n",
       "      <td>1.99</td>\n",
       "      <td>None</td>\n",
       "    </tr>\n",
       "  </tbody>\n",
       "</table>\n",
       "</div>"
      ],
      "text/plain": [
       "                             0       1     2\n",
       "0      Market Cap (intraday) 5   1.58B  None\n",
       "1           Enterprise Value 3   2.46B  None\n",
       "2                Trailing P/E    12.06  None\n",
       "3                Forward P/E 1    7.30  None\n",
       "4  PEG Ratio (5 yr expected) 1   -2.54  None\n",
       "5            Price/Sales (ttm)    0.37  None\n",
       "6             Price/Book (mrq)    2.14  None\n",
       "7   Enterprise Value/Revenue 3    0.58  None\n",
       "8    Enterprise Value/EBITDA 6   10.40  None\n",
       "9           Beta (3Y Monthly)     1.99  None"
      ]
     },
     "execution_count": 13,
     "metadata": {},
     "output_type": "execute_result"
    }
   ],
   "source": [
    "Value[0] =Value[0].str.strip('[')\n",
    "Value[1] = Value[1].str.strip(']')\n",
    "Value.head(10)"
   ]
  },
  {
   "cell_type": "code",
   "execution_count": 14,
   "metadata": {},
   "outputs": [
    {
     "name": "stdout",
     "output_type": "stream",
     "text": [
      "                             0       1     2\n",
      "0      Market Cap (intraday) 5   1.58B  None\n",
      "1           Enterprise Value 3   2.46B  None\n",
      "2                Trailing P/E    12.06  None\n",
      "3                Forward P/E 1    7.30  None\n",
      "4  PEG Ratio (5 yr expected) 1   -2.54  None\n",
      "5            Price/Sales (ttm)    0.37  None\n",
      "6             Price/Book (mrq)    2.14  None\n",
      "7   Enterprise Value/Revenue 3    0.58  None\n",
      "8    Enterprise Value/EBITDA 6   10.40  None\n",
      "9           Beta (3Y Monthly)     1.99  None\n"
     ]
    }
   ],
   "source": [
    "E_Value= Value.loc[:9]\n",
    "print(E_Value)"
   ]
  },
  {
   "cell_type": "code",
   "execution_count": 15,
   "metadata": {},
   "outputs": [
    {
     "data": {
      "text/plain": [
       "pandas.core.frame.DataFrame"
      ]
     },
     "execution_count": 15,
     "metadata": {},
     "output_type": "execute_result"
    }
   ],
   "source": [
    "type(E_Value)"
   ]
  },
  {
   "cell_type": "code",
   "execution_count": 16,
   "metadata": {},
   "outputs": [],
   "source": [
    "E_Value.columns =['Valueation Measures', 'Current Data','Delete']"
   ]
  },
  {
   "cell_type": "code",
   "execution_count": 18,
   "metadata": {},
   "outputs": [
    {
     "data": {
      "text/html": [
       "<div>\n",
       "<style scoped>\n",
       "    .dataframe tbody tr th:only-of-type {\n",
       "        vertical-align: middle;\n",
       "    }\n",
       "\n",
       "    .dataframe tbody tr th {\n",
       "        vertical-align: top;\n",
       "    }\n",
       "\n",
       "    .dataframe thead th {\n",
       "        text-align: right;\n",
       "    }\n",
       "</style>\n",
       "<table border=\"1\" class=\"dataframe\">\n",
       "  <thead>\n",
       "    <tr style=\"text-align: right;\">\n",
       "      <th></th>\n",
       "      <th>Valueation Measures</th>\n",
       "      <th>Current Data</th>\n",
       "    </tr>\n",
       "  </thead>\n",
       "  <tbody>\n",
       "    <tr>\n",
       "      <th>0</th>\n",
       "      <td>Market Cap (intraday) 5</td>\n",
       "      <td>1.58B</td>\n",
       "    </tr>\n",
       "    <tr>\n",
       "      <th>1</th>\n",
       "      <td>Enterprise Value 3</td>\n",
       "      <td>2.46B</td>\n",
       "    </tr>\n",
       "    <tr>\n",
       "      <th>2</th>\n",
       "      <td>Trailing P/E</td>\n",
       "      <td>12.06</td>\n",
       "    </tr>\n",
       "    <tr>\n",
       "      <th>3</th>\n",
       "      <td>Forward P/E 1</td>\n",
       "      <td>7.30</td>\n",
       "    </tr>\n",
       "    <tr>\n",
       "      <th>4</th>\n",
       "      <td>PEG Ratio (5 yr expected) 1</td>\n",
       "      <td>-2.54</td>\n",
       "    </tr>\n",
       "    <tr>\n",
       "      <th>5</th>\n",
       "      <td>Price/Sales (ttm)</td>\n",
       "      <td>0.37</td>\n",
       "    </tr>\n",
       "    <tr>\n",
       "      <th>6</th>\n",
       "      <td>Price/Book (mrq)</td>\n",
       "      <td>2.14</td>\n",
       "    </tr>\n",
       "    <tr>\n",
       "      <th>7</th>\n",
       "      <td>Enterprise Value/Revenue 3</td>\n",
       "      <td>0.58</td>\n",
       "    </tr>\n",
       "    <tr>\n",
       "      <th>8</th>\n",
       "      <td>Enterprise Value/EBITDA 6</td>\n",
       "      <td>10.40</td>\n",
       "    </tr>\n",
       "    <tr>\n",
       "      <th>9</th>\n",
       "      <td>Beta (3Y Monthly)</td>\n",
       "      <td>1.99</td>\n",
       "    </tr>\n",
       "  </tbody>\n",
       "</table>\n",
       "</div>"
      ],
      "text/plain": [
       "           Valueation Measures Current Data\n",
       "0      Market Cap (intraday) 5        1.58B\n",
       "1           Enterprise Value 3        2.46B\n",
       "2                Trailing P/E         12.06\n",
       "3                Forward P/E 1         7.30\n",
       "4  PEG Ratio (5 yr expected) 1        -2.54\n",
       "5            Price/Sales (ttm)         0.37\n",
       "6             Price/Book (mrq)         2.14\n",
       "7   Enterprise Value/Revenue 3         0.58\n",
       "8    Enterprise Value/EBITDA 6        10.40\n",
       "9           Beta (3Y Monthly)          1.99"
      ]
     },
     "execution_count": 18,
     "metadata": {},
     "output_type": "execute_result"
    }
   ],
   "source": [
    "E_Value=E_Value.dropna(axis=1, how='any')\n",
    "E_Value"
   ]
  },
  {
   "cell_type": "code",
   "execution_count": 18,
   "metadata": {},
   "outputs": [
    {
     "data": {
      "text/plain": [
       "Valueation Measures    object\n",
       "Current Data           object\n",
       "dtype: object"
      ]
     },
     "execution_count": 18,
     "metadata": {},
     "output_type": "execute_result"
    }
   ],
   "source": [
    "E_Value.dtypes"
   ]
  },
  {
   "cell_type": "markdown",
   "metadata": {},
   "source": [
    "### 3.Seperate criterias that are related to companies intrinsic value "
   ]
  },
  {
   "cell_type": "code",
   "execution_count": 24,
   "metadata": {},
   "outputs": [
    {
     "data": {
      "text/html": [
       "<div>\n",
       "<style scoped>\n",
       "    .dataframe tbody tr th:only-of-type {\n",
       "        vertical-align: middle;\n",
       "    }\n",
       "\n",
       "    .dataframe tbody tr th {\n",
       "        vertical-align: top;\n",
       "    }\n",
       "\n",
       "    .dataframe thead th {\n",
       "        text-align: right;\n",
       "    }\n",
       "</style>\n",
       "<table border=\"1\" class=\"dataframe\">\n",
       "  <thead>\n",
       "    <tr style=\"text-align: right;\">\n",
       "      <th></th>\n",
       "      <th>Valueation Measures</th>\n",
       "      <th>Current Data</th>\n",
       "    </tr>\n",
       "  </thead>\n",
       "  <tbody>\n",
       "    <tr>\n",
       "      <th>0</th>\n",
       "      <td>Market Cap (intraday) 5</td>\n",
       "      <td>1.58</td>\n",
       "    </tr>\n",
       "    <tr>\n",
       "      <th>1</th>\n",
       "      <td>Enterprise Value 3</td>\n",
       "      <td>2.46</td>\n",
       "    </tr>\n",
       "    <tr>\n",
       "      <th>2</th>\n",
       "      <td>Trailing P/E</td>\n",
       "      <td>12.06</td>\n",
       "    </tr>\n",
       "    <tr>\n",
       "      <th>3</th>\n",
       "      <td>Forward P/E 1</td>\n",
       "      <td>7.30</td>\n",
       "    </tr>\n",
       "    <tr>\n",
       "      <th>4</th>\n",
       "      <td>PEG Ratio (5 yr expected) 1</td>\n",
       "      <td>-2.54</td>\n",
       "    </tr>\n",
       "    <tr>\n",
       "      <th>5</th>\n",
       "      <td>Price/Sales (ttm)</td>\n",
       "      <td>0.37</td>\n",
       "    </tr>\n",
       "    <tr>\n",
       "      <th>6</th>\n",
       "      <td>Price/Book (mrq)</td>\n",
       "      <td>2.14</td>\n",
       "    </tr>\n",
       "    <tr>\n",
       "      <th>7</th>\n",
       "      <td>Enterprise Value/Revenue 3</td>\n",
       "      <td>0.58</td>\n",
       "    </tr>\n",
       "    <tr>\n",
       "      <th>8</th>\n",
       "      <td>Enterprise Value/EBITDA 6</td>\n",
       "      <td>10.40</td>\n",
       "    </tr>\n",
       "    <tr>\n",
       "      <th>9</th>\n",
       "      <td>Beta (3Y Monthly)</td>\n",
       "      <td>1.99</td>\n",
       "    </tr>\n",
       "  </tbody>\n",
       "</table>\n",
       "</div>"
      ],
      "text/plain": [
       "           Valueation Measures Current Data\n",
       "0      Market Cap (intraday) 5         1.58\n",
       "1           Enterprise Value 3         2.46\n",
       "2                Trailing P/E         12.06\n",
       "3                Forward P/E 1         7.30\n",
       "4  PEG Ratio (5 yr expected) 1        -2.54\n",
       "5            Price/Sales (ttm)         0.37\n",
       "6             Price/Book (mrq)         2.14\n",
       "7   Enterprise Value/Revenue 3         0.58\n",
       "8    Enterprise Value/EBITDA 6        10.40\n",
       "9           Beta (3Y Monthly)          1.99"
      ]
     },
     "execution_count": 24,
     "metadata": {},
     "output_type": "execute_result"
    }
   ],
   "source": [
    "E_Value.iloc[0,E_Value.columns.get_loc('Current Data')] = 1.58\n",
    "E_Value.iloc[1,E_Value.columns.get_loc('Current Data')] = 2.46\n",
    "E_Value"
   ]
  },
  {
   "cell_type": "code",
   "execution_count": 25,
   "metadata": {},
   "outputs": [
    {
     "data": {
      "text/plain": [
       "Valueation Measures    object\n",
       "Current Data           object\n",
       "dtype: object"
      ]
     },
     "execution_count": 25,
     "metadata": {},
     "output_type": "execute_result"
    }
   ],
   "source": [
    "E_Value.dtypes"
   ]
  },
  {
   "cell_type": "code",
   "execution_count": 27,
   "metadata": {},
   "outputs": [
    {
     "data": {
      "text/plain": [
       "pandas.core.series.Series"
      ]
     },
     "execution_count": 27,
     "metadata": {},
     "output_type": "execute_result"
    }
   ],
   "source": [
    "E_Value2=E_Value['Current Data'].astype(float)\n",
    "type(E_Value2)"
   ]
  },
  {
   "cell_type": "markdown",
   "metadata": {},
   "source": [
    "### 4. Simple decision making"
   ]
  },
  {
   "cell_type": "markdown",
   "metadata": {},
   "source": [
    "##### Generally the first criteria we need to consider is Enterpise Value/EBITDA which shown in row 8. EV/EBITDA is a indicator of whether the current price is overpriced or not, when EV/EBITDA is over 7 or 8, that means it is overpriced. Usually analyst may continue work on some other criterias, but in this case I want to apply more of python, so I decided to go and try technical approach. "
   ]
  },
  {
   "cell_type": "code",
   "execution_count": 28,
   "metadata": {},
   "outputs": [
    {
     "name": "stdout",
     "output_type": "stream",
     "text": [
      "Need Technology Approach\n"
     ]
    }
   ],
   "source": [
    "if E_Value2.loc[8]<=7:\n",
    "    print('Pass')\n",
    "else:\n",
    "        print('Need Technology Approach')"
   ]
  },
  {
   "cell_type": "markdown",
   "metadata": {},
   "source": [
    "## Technical Approach"
   ]
  },
  {
   "cell_type": "code",
   "execution_count": 4,
   "metadata": {},
   "outputs": [
    {
     "data": {
      "text/html": [
       "<div>\n",
       "<style scoped>\n",
       "    .dataframe tbody tr th:only-of-type {\n",
       "        vertical-align: middle;\n",
       "    }\n",
       "\n",
       "    .dataframe tbody tr th {\n",
       "        vertical-align: top;\n",
       "    }\n",
       "\n",
       "    .dataframe thead th {\n",
       "        text-align: right;\n",
       "    }\n",
       "</style>\n",
       "<table border=\"1\" class=\"dataframe\">\n",
       "  <thead>\n",
       "    <tr style=\"text-align: right;\">\n",
       "      <th></th>\n",
       "      <th>Date</th>\n",
       "      <th>Open</th>\n",
       "      <th>High</th>\n",
       "      <th>Low</th>\n",
       "      <th>Close</th>\n",
       "      <th>Adj Close</th>\n",
       "      <th>Volume</th>\n",
       "    </tr>\n",
       "  </thead>\n",
       "  <tbody>\n",
       "    <tr>\n",
       "      <th>0</th>\n",
       "      <td>2018-10-08</td>\n",
       "      <td>80.940002</td>\n",
       "      <td>81.419998</td>\n",
       "      <td>79.580002</td>\n",
       "      <td>81.010002</td>\n",
       "      <td>78.436867</td>\n",
       "      <td>445500</td>\n",
       "    </tr>\n",
       "    <tr>\n",
       "      <th>1</th>\n",
       "      <td>2018-10-09</td>\n",
       "      <td>80.690002</td>\n",
       "      <td>80.720001</td>\n",
       "      <td>75.870003</td>\n",
       "      <td>76.150002</td>\n",
       "      <td>74.097099</td>\n",
       "      <td>1087100</td>\n",
       "    </tr>\n",
       "    <tr>\n",
       "      <th>2</th>\n",
       "      <td>2018-10-10</td>\n",
       "      <td>69.449997</td>\n",
       "      <td>70.000000</td>\n",
       "      <td>59.910000</td>\n",
       "      <td>60.349998</td>\n",
       "      <td>58.723045</td>\n",
       "      <td>2586200</td>\n",
       "    </tr>\n",
       "    <tr>\n",
       "      <th>3</th>\n",
       "      <td>2018-10-11</td>\n",
       "      <td>59.990002</td>\n",
       "      <td>60.967999</td>\n",
       "      <td>58.259998</td>\n",
       "      <td>59.509998</td>\n",
       "      <td>57.905689</td>\n",
       "      <td>1290200</td>\n",
       "    </tr>\n",
       "    <tr>\n",
       "      <th>4</th>\n",
       "      <td>2018-10-12</td>\n",
       "      <td>60.630001</td>\n",
       "      <td>61.790001</td>\n",
       "      <td>60.505001</td>\n",
       "      <td>61.490002</td>\n",
       "      <td>59.832314</td>\n",
       "      <td>665500</td>\n",
       "    </tr>\n",
       "  </tbody>\n",
       "</table>\n",
       "</div>"
      ],
      "text/plain": [
       "         Date       Open       High        Low      Close  Adj Close   Volume\n",
       "0  2018-10-08  80.940002  81.419998  79.580002  81.010002  78.436867   445500\n",
       "1  2018-10-09  80.690002  80.720001  75.870003  76.150002  74.097099  1087100\n",
       "2  2018-10-10  69.449997  70.000000  59.910000  60.349998  58.723045  2586200\n",
       "3  2018-10-11  59.990002  60.967999  58.259998  59.509998  57.905689  1290200\n",
       "4  2018-10-12  60.630001  61.790001  60.505001  61.490002  59.832314   665500"
      ]
     },
     "execution_count": 4,
     "metadata": {},
     "output_type": "execute_result"
    }
   ],
   "source": [
    "# CSV Data from Google Finnance, historical prices of TSE from 2018-10-08 to 2019-10-07\n",
    "TSE=pd.read_csv('TSE.CSV')\n",
    "TSE.head()"
   ]
  },
  {
   "cell_type": "markdown",
   "metadata": {},
   "source": [
    "### 1. Data Formating"
   ]
  },
  {
   "cell_type": "code",
   "execution_count": 9,
   "metadata": {},
   "outputs": [
    {
     "data": {
      "text/plain": [
       "Close    float64\n",
       "dtype: object"
      ]
     },
     "execution_count": 9,
     "metadata": {},
     "output_type": "execute_result"
    }
   ],
   "source": [
    "TSE2=TSE.set_index('Date')\n",
    "TSE2=pd.DataFrame(TSE2.loc[:,'Close'])\n",
    "TSE2.head()\n",
    "TSE2.dtypes"
   ]
  },
  {
   "cell_type": "markdown",
   "metadata": {},
   "source": [
    "### 2. Calculating Moving Average(short==30days MA, Long==100days MA)"
   ]
  },
  {
   "cell_type": "code",
   "execution_count": 12,
   "metadata": {},
   "outputs": [
    {
     "data": {
      "text/plain": [
       "pandas.core.frame.DataFrame"
      ]
     },
     "execution_count": 12,
     "metadata": {},
     "output_type": "execute_result"
    }
   ],
   "source": [
    "short_rolling=TSE2.rolling(window=30).mean()\n",
    "short_rolling.columns=['MA 30']\n",
    "short_rolling.head(30)\n",
    "type(short_rolling)"
   ]
  },
  {
   "cell_type": "code",
   "execution_count": 11,
   "metadata": {},
   "outputs": [
    {
     "data": {
      "text/html": [
       "<div>\n",
       "<style scoped>\n",
       "    .dataframe tbody tr th:only-of-type {\n",
       "        vertical-align: middle;\n",
       "    }\n",
       "\n",
       "    .dataframe tbody tr th {\n",
       "        vertical-align: top;\n",
       "    }\n",
       "\n",
       "    .dataframe thead th {\n",
       "        text-align: right;\n",
       "    }\n",
       "</style>\n",
       "<table border=\"1\" class=\"dataframe\">\n",
       "  <thead>\n",
       "    <tr style=\"text-align: right;\">\n",
       "      <th></th>\n",
       "      <th>MA 100</th>\n",
       "    </tr>\n",
       "    <tr>\n",
       "      <th>Date</th>\n",
       "      <th></th>\n",
       "    </tr>\n",
       "  </thead>\n",
       "  <tbody>\n",
       "    <tr>\n",
       "      <th>2019-10-01</th>\n",
       "      <td>38.2995</td>\n",
       "    </tr>\n",
       "    <tr>\n",
       "      <th>2019-10-02</th>\n",
       "      <td>38.2623</td>\n",
       "    </tr>\n",
       "    <tr>\n",
       "      <th>2019-10-03</th>\n",
       "      <td>38.2545</td>\n",
       "    </tr>\n",
       "    <tr>\n",
       "      <th>2019-10-04</th>\n",
       "      <td>38.2441</td>\n",
       "    </tr>\n",
       "    <tr>\n",
       "      <th>2019-10-07</th>\n",
       "      <td>38.2260</td>\n",
       "    </tr>\n",
       "  </tbody>\n",
       "</table>\n",
       "</div>"
      ],
      "text/plain": [
       "             MA 100\n",
       "Date               \n",
       "2019-10-01  38.2995\n",
       "2019-10-02  38.2623\n",
       "2019-10-03  38.2545\n",
       "2019-10-04  38.2441\n",
       "2019-10-07  38.2260"
      ]
     },
     "execution_count": 11,
     "metadata": {},
     "output_type": "execute_result"
    }
   ],
   "source": [
    "long_rolling = TSE2.rolling(window=100).mean()\n",
    "long_rolling.columns=['MA 100']\n",
    "long_rolling.tail()"
   ]
  },
  {
   "cell_type": "markdown",
   "metadata": {},
   "source": [
    "### 3.Merge MA30, MA100 with the real price and make a plot"
   ]
  },
  {
   "cell_type": "code",
   "execution_count": 14,
   "metadata": {},
   "outputs": [],
   "source": [
    "rolling=pd.merge(short_rolling, long_rolling, on='Date')\n",
    "TSE3=pd.merge(rolling, TSE2, on='Date')"
   ]
  },
  {
   "cell_type": "code",
   "execution_count": 15,
   "metadata": {},
   "outputs": [
    {
     "data": {
      "image/png": "[encoded data removed]",
      "text/plain": [
       "<Figure size 1440x864 with 1 Axes>"
      ]
     },
     "metadata": {
      "needs_background": "light"
     },
     "output_type": "display_data"
    }
   ],
   "source": [
    "TSE3[['Close','MA 30','MA 100']].plot(subplots=False,figsize=(20,12));\n"
   ]
  },
  {
   "cell_type": "markdown",
   "metadata": {},
   "source": [
    "#### MA Conclusion & Concern: Moving average is classic method to determine the timing of investment on certain stocks. In general, when short-term MA crossover with real price from upside to downside that indicates in short-term we should short sell, the price of this stock should go down in few days or weeks. When MA move up across the price line from the downside, it indicates the stock price will go up in next few days or weeks. As we can see in the graph, TSE generally follows this trend, however, MA is a little bit dated for nowadays market, it is not as accurate as it used to be(off course, if it is very accurate, all of us are billionaires now, MA can be easily found on any market web-site).\n",
    "#### An Introduction of EMA: EMA represents Exponential Moving Average. EMA come up from reguler MA, but it reduced the time lag of traditional method, in another word, more accurate. However, EMA is more math-intensive, it has a series of formulas and parameters that not everyone wants to deal with. While in python, it is just one single command. "
   ]
  },
  {
   "cell_type": "markdown",
   "metadata": {},
   "source": [
    "### 4. EMA"
   ]
  },
  {
   "cell_type": "code",
   "execution_count": 18,
   "metadata": {},
   "outputs": [
    {
     "data": {
      "text/html": [
       "<div>\n",
       "<style scoped>\n",
       "    .dataframe tbody tr th:only-of-type {\n",
       "        vertical-align: middle;\n",
       "    }\n",
       "\n",
       "    .dataframe tbody tr th {\n",
       "        vertical-align: top;\n",
       "    }\n",
       "\n",
       "    .dataframe thead th {\n",
       "        text-align: right;\n",
       "    }\n",
       "</style>\n",
       "<table border=\"1\" class=\"dataframe\">\n",
       "  <thead>\n",
       "    <tr style=\"text-align: right;\">\n",
       "      <th></th>\n",
       "      <th>Close</th>\n",
       "    </tr>\n",
       "    <tr>\n",
       "      <th>Date</th>\n",
       "      <th></th>\n",
       "    </tr>\n",
       "  </thead>\n",
       "  <tbody>\n",
       "    <tr>\n",
       "      <th>2018-10-08</th>\n",
       "      <td>81.010002</td>\n",
       "    </tr>\n",
       "    <tr>\n",
       "      <th>2018-10-09</th>\n",
       "      <td>80.696454</td>\n",
       "    </tr>\n",
       "    <tr>\n",
       "      <th>2018-10-10</th>\n",
       "      <td>79.383779</td>\n",
       "    </tr>\n",
       "    <tr>\n",
       "      <th>2018-10-11</th>\n",
       "      <td>78.101600</td>\n",
       "    </tr>\n",
       "    <tr>\n",
       "      <th>2018-10-12</th>\n",
       "      <td>77.029884</td>\n",
       "    </tr>\n",
       "  </tbody>\n",
       "</table>\n",
       "</div>"
      ],
      "text/plain": [
       "                Close\n",
       "Date                 \n",
       "2018-10-08  81.010002\n",
       "2018-10-09  80.696454\n",
       "2018-10-10  79.383779\n",
       "2018-10-11  78.101600\n",
       "2018-10-12  77.029884"
      ]
     },
     "execution_count": 18,
     "metadata": {},
     "output_type": "execute_result"
    }
   ],
   "source": [
    "ema_short = TSE2.ewm(span=30, adjust=False).mean()\n",
    "ema_short.head()\n"
   ]
  },
  {
   "cell_type": "code",
   "execution_count": 21,
   "metadata": {},
   "outputs": [
    {
     "data": {
      "text/html": [
       "<div>\n",
       "<style scoped>\n",
       "    .dataframe tbody tr th:only-of-type {\n",
       "        vertical-align: middle;\n",
       "    }\n",
       "\n",
       "    .dataframe tbody tr th {\n",
       "        vertical-align: top;\n",
       "    }\n",
       "\n",
       "    .dataframe thead th {\n",
       "        text-align: right;\n",
       "    }\n",
       "</style>\n",
       "<table border=\"1\" class=\"dataframe\">\n",
       "  <thead>\n",
       "    <tr style=\"text-align: right;\">\n",
       "      <th></th>\n",
       "      <th>EMA30</th>\n",
       "    </tr>\n",
       "    <tr>\n",
       "      <th>Date</th>\n",
       "      <th></th>\n",
       "    </tr>\n",
       "  </thead>\n",
       "  <tbody>\n",
       "    <tr>\n",
       "      <th>2018-10-08</th>\n",
       "      <td>81.010002</td>\n",
       "    </tr>\n",
       "    <tr>\n",
       "      <th>2018-10-09</th>\n",
       "      <td>80.696454</td>\n",
       "    </tr>\n",
       "    <tr>\n",
       "      <th>2018-10-10</th>\n",
       "      <td>79.383779</td>\n",
       "    </tr>\n",
       "    <tr>\n",
       "      <th>2018-10-11</th>\n",
       "      <td>78.101600</td>\n",
       "    </tr>\n",
       "    <tr>\n",
       "      <th>2018-10-12</th>\n",
       "      <td>77.029884</td>\n",
       "    </tr>\n",
       "  </tbody>\n",
       "</table>\n",
       "</div>"
      ],
      "text/plain": [
       "                EMA30\n",
       "Date                 \n",
       "2018-10-08  81.010002\n",
       "2018-10-09  80.696454\n",
       "2018-10-10  79.383779\n",
       "2018-10-11  78.101600\n",
       "2018-10-12  77.029884"
      ]
     },
     "execution_count": 21,
     "metadata": {},
     "output_type": "execute_result"
    }
   ],
   "source": [
    "ema_short.columns=['EMA30']\n",
    "ema_short.head()"
   ]
  },
  {
   "cell_type": "code",
   "execution_count": 22,
   "metadata": {},
   "outputs": [],
   "source": [
    "TSE4=pd.merge(TSE3, ema_short,on= 'Date')"
   ]
  },
  {
   "cell_type": "code",
   "execution_count": 23,
   "metadata": {},
   "outputs": [
    {
     "data": {
      "image/png": "[encoded data removed]",
      "text/plain": [
       "<Figure size 1440x864 with 1 Axes>"
      ]
     },
     "metadata": {
      "needs_background": "light"
     },
     "output_type": "display_data"
    }
   ],
   "source": [
    "TSE4[['Close','MA 30','EMA30']].plot(subplots=False,figsize=(20,12));"
   ]
  },
  {
   "cell_type": "markdown",
   "metadata": {},
   "source": [
    "#### Final Conclusion: EMA looks similar to MA, however it gives us a clearer guide for decision making. For example, at around 03-05 and 7-26, EMA showed us a clearer short signal but MA did not (in almost every case, EMA gives us signal one week earlier than MA). As on today(2019-10-07) MA delivers a signal says \"buy\", but EMA shows that the buy trend has come to the end and we probably should \"hold\". While EMA indicates a similar decision as I was using fundamental method, where the EV/EBITDA is slightly over 8 but not too much, so probably it is not a very good timing to buy nor short TSE, we might need more research on this stock.    \n",
    "#### Python is really helpful in plotting EMA, it is extremely easy that I have never expected. Certainly there are more things I can do with python on stock valuation, but as my very first project with Python, I will probably end here. Anyway, as a person comes from basically Zero programming background, I was so impressed by Python, it is not only a tool but also a artwork. I will learn more about Python, I love Pythom.\n",
    "#### In the end, I want to thanks my Python instructor Ethan. For anybody else who can see this project, I want you to know, he is a extremely friendly person to work with, he beared all my stupid questions with patience. Truely, thank you Ethan!"
   ]
  },
  {
   "cell_type": "markdown",
   "metadata": {},
   "source": [
    "##### Notes about why I chose TSE as my object: TSE is a stock that I analyzed before during my undergraduate. I decided to buy this stock for school's investment portforlio in April 2019. I used almost all the fundamental analytic methods that I learned, all the indicators told me to buy. TSE has outstanding financial statements, very limited debt. Also as a raising company in petro-chemical industry, the price/quality ratio of their product is very attractive, they also have leading technology in this industry. However, as you can see, I suffered a big loss in this investment. I feel so upset, because TSE is the last stock I picked for my undergraduate school, and it is the only one that I lost. I was wondering why such a raising star had a big drop in stock price. I thought partially that was becasue of US-China trade war, and TSE has their majority of factories in China. I also thought that might because I chose the wrong time to make this investment. So, I learned a little bit of technical approach this summer, and trying to find out if it is the truth.     "
   ]
  },
  {
   "cell_type": "code",
   "execution_count": null,
   "metadata": {},
   "outputs": [],
   "source": []
  }
 ],
 "metadata": {
  "kernelspec": {
   "display_name": "Python 3",
   "language": "python",
   "name": "python3"
  },
  "language_info": {
   "codemirror_mode": {
    "name": "ipython",
    "version": 3
   },
   "file_extension": ".py",
   "mimetype": "text/x-python",
   "name": "python",
   "nbconvert_exporter": "python",
   "pygments_lexer": "ipython3",
   "version": "3.7.3"
  }
 },
 "nbformat": 4,
 "nbformat_minor": 4
}
